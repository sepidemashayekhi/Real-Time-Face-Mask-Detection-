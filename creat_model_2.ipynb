{
  "nbformat": 4,
  "nbformat_minor": 0,
  "metadata": {
    "colab": {
      "name": "Untitled38.ipynb",
      "provenance": []
    },
    "kernelspec": {
      "name": "python3",
      "display_name": "Python 3"
    },
    "language_info": {
      "name": "python"
    },
    "accelerator": "GPU"
  },
  "cells": [
    {
      "cell_type": "code",
      "execution_count": 2,
      "metadata": {
        "id": "0aHjQyElZDZj"
      },
      "outputs": [],
      "source": [
        "from keras.preprocessing.image import ImageDataGenerator\n",
        "from keras.applications.mobilenet_v2 import MobileNetV2\n",
        "from keras.layers import AveragePooling2D\n",
        "from keras.layers import Dropout,Flatten,Dense,Input \n",
        "from keras.models import Model\n",
        "from keras.optimizers import adam_v2\n",
        "from keras.applications.mobilenet_v2 import preprocess_input\n",
        "from keras.preprocessing.image import img_to_array\n",
        "from tensorflow.keras.utils import to_categorical\n",
        "from keras.preprocessing.image import load_img\n",
        "from sklearn.preprocessing import LabelBinarizer\n",
        "from sklearn.model_selection import train_test_split\n",
        "from sklearn.metrics import classification_report\n",
        "from imutils import paths\n",
        "import matplotlib.pyplot as plt\n",
        "import numpy as np\n",
        "import os"
      ]
    },
    {
      "cell_type": "markdown",
      "source": [
        "## preprocessing image data"
      ],
      "metadata": {
        "id": "4aVdJfrpi5xX"
      }
    },
    {
      "cell_type": "code",
      "source": [
        "directory=r'/content/sample_data/data'\n",
        "categories=['with_mask','without_mask']"
      ],
      "metadata": {
        "id": "5XpO-deVfT3A"
      },
      "execution_count": 3,
      "outputs": []
    },
    {
      "cell_type": "code",
      "source": [
        "image_data=[]\n",
        "labels=[]\n",
        "for category in categories:\n",
        "  path=os.path.join(directory,category)\n",
        "  for img in os.listdir(path):\n",
        "    img_path=os.path.join(path,img)\n",
        "    image=load_img(img_path,target_size=(224,224))\n",
        "    image = img_to_array(image)\n",
        "    image=preprocess_input(image)\n",
        "    \n",
        "    image_data.append(image)\n",
        "    labels.append(category)"
      ],
      "metadata": {
        "colab": {
          "base_uri": "https://localhost:8080/"
        },
        "id": "uH2Tf9aKfls3",
        "outputId": "33c2f6af-0cf7-4048-9dec-30233eaa2d40"
      },
      "execution_count": 4,
      "outputs": [
        {
          "output_type": "stream",
          "name": "stderr",
          "text": [
            "/usr/local/lib/python3.7/dist-packages/PIL/Image.py:960: UserWarning: Palette images with Transparency expressed in bytes should be converted to RGBA images\n",
            "  \"Palette images with Transparency expressed in bytes should be \"\n"
          ]
        }
      ]
    },
    {
      "cell_type": "code",
      "source": [
        "lb = LabelBinarizer()\n",
        "labels = lb.fit_transform(labels)\n",
        "# labels = to_categorical(labels)"
      ],
      "metadata": {
        "id": "DfbctW0AiDg_"
      },
      "execution_count": 5,
      "outputs": []
    },
    {
      "cell_type": "code",
      "source": [
        "image_data = np.array(image_data, dtype=\"float32\")\n",
        "labels = np.array(labels)\n",
        "labels=np.reshape(labels,(labels.shape[0],))"
      ],
      "metadata": {
        "id": "RHobvHJwiU8r"
      },
      "execution_count": 22,
      "outputs": []
    },
    {
      "cell_type": "markdown",
      "source": [
        "## create model"
      ],
      "metadata": {
        "id": "W9VVEQ1WjBaV"
      }
    },
    {
      "cell_type": "code",
      "source": [
        "(trainX, testX, trainY, testY) = train_test_split(image_data, labels,test_size=0.20, random_state=42)\n",
        "datagen = ImageDataGenerator(rotation_range=20,zoom_range=0.15,width_shift_range=0.2,\n",
        "\theight_shift_range=0.2,\n",
        "\tshear_range=0.15,\n",
        "\thorizontal_flip=True,\n",
        "\tfill_mode=\"nearest\")"
      ],
      "metadata": {
        "id": "7R7Nh9hkjFPC"
      },
      "execution_count": 25,
      "outputs": []
    },
    {
      "cell_type": "code",
      "source": [
        "base_conv=MobileNetV2(weights='imagenet',include_top=False,input_shape=(224,224,3),\n",
        "                     \tinput_tensor=Input(shape=(224, 224, 3)))"
      ],
      "metadata": {
        "id": "DcGzL_SbjhXc"
      },
      "execution_count": 26,
      "outputs": []
    },
    {
      "cell_type": "code",
      "source": [
        "Adam_op=adam_v2.Adam(learning_rate=1e-4,decay=1e-4/20)"
      ],
      "metadata": {
        "id": "0WzL-CHjlhdg"
      },
      "execution_count": 27,
      "outputs": []
    },
    {
      "cell_type": "code",
      "source": [
        "# my model\n",
        "input=base_conv.output\n",
        "maxP_1 = AveragePooling2D(pool_size=(7, 7))(input)\n",
        "flatte=Flatten()(maxP_1)\n",
        "dense_1=Dense(128,activation='relu')(flatte)\n",
        "Drop_1=Dropout(.25)(dense_1)\n",
        "dense_2=Dense(64,activation='relu')(Drop_1)\n",
        "Drop_2=Dropout(.25)(dense_2)\n",
        "output=Dense(1,activation='sigmoid')(Drop_2)\n",
        "\n",
        "model=Model(base_conv.input,output)\n",
        "\n",
        "model.compile(loss='binary_crossentropy',optimizer=Adam_op,metrics=['acc'])"
      ],
      "metadata": {
        "id": "oPACqS5hkARO"
      },
      "execution_count": 37,
      "outputs": []
    },
    {
      "cell_type": "code",
      "source": [
        "for layer in base_conv.layers:\n",
        "\tlayer.trainable = False"
      ],
      "metadata": {
        "id": "FeZhPm9QmGUW"
      },
      "execution_count": 38,
      "outputs": []
    },
    {
      "cell_type": "code",
      "source": [
        "trainGenerator=datagen.flow(trainX, trainY, batch_size=32)\n",
        "validationGenetator=datagen.flow(testX,testY,batch_size=32)"
      ],
      "metadata": {
        "id": "lApDwWEhnEPR"
      },
      "execution_count": 39,
      "outputs": []
    },
    {
      "cell_type": "code",
      "source": [
        "history=model.fit_generator(trainGenerator,steps_per_epoch=90,\n",
        "                            validation_data=validationGenetator,validation_steps=50,epochs=10)"
      ],
      "metadata": {
        "colab": {
          "base_uri": "https://localhost:8080/"
        },
        "id": "QCvN7sQ6riWo",
        "outputId": "755bc580-6746-40f3-908a-79915a40f734"
      },
      "execution_count": 40,
      "outputs": [
        {
          "output_type": "stream",
          "name": "stderr",
          "text": [
            "/usr/local/lib/python3.7/dist-packages/ipykernel_launcher.py:2: UserWarning: `Model.fit_generator` is deprecated and will be removed in a future version. Please use `Model.fit`, which supports generators.\n",
            "  \n"
          ]
        },
        {
          "output_type": "stream",
          "name": "stdout",
          "text": [
            "Epoch 1/10\n",
            "90/90 [==============================] - ETA: 0s - loss: 0.0238 - acc: 0.9896WARNING:tensorflow:Your input ran out of data; interrupting training. Make sure that your dataset or generator can generate at least `steps_per_epoch * epochs` batches (in this case, 50 batches). You may need to use the repeat() function when building your dataset.\n",
            "90/90 [==============================] - 41s 429ms/step - loss: 0.0238 - acc: 0.9896 - val_loss: 0.0093 - val_acc: 0.9974\n",
            "Epoch 2/10\n",
            "90/90 [==============================] - 31s 341ms/step - loss: 0.0012 - acc: 0.9997\n",
            "Epoch 3/10\n",
            "90/90 [==============================] - 29s 326ms/step - loss: 6.1370e-04 - acc: 1.0000\n",
            "Epoch 4/10\n",
            "90/90 [==============================] - 30s 328ms/step - loss: 5.6632e-04 - acc: 1.0000\n",
            "Epoch 5/10\n",
            "90/90 [==============================] - 29s 326ms/step - loss: 1.5065e-04 - acc: 1.0000\n",
            "Epoch 6/10\n",
            "90/90 [==============================] - 29s 327ms/step - loss: 2.1436e-04 - acc: 1.0000\n",
            "Epoch 7/10\n",
            "90/90 [==============================] - 29s 325ms/step - loss: 7.3488e-05 - acc: 1.0000\n",
            "Epoch 8/10\n",
            "90/90 [==============================] - 30s 333ms/step - loss: 3.4375e-04 - acc: 1.0000\n",
            "Epoch 9/10\n",
            "90/90 [==============================] - 29s 326ms/step - loss: 7.5971e-05 - acc: 1.0000\n",
            "Epoch 10/10\n",
            "90/90 [==============================] - 29s 325ms/step - loss: 1.3525e-04 - acc: 1.0000\n"
          ]
        }
      ]
    },
    {
      "cell_type": "code",
      "source": [
        "model.save('/content/sample_data/my_bestModel.h5')"
      ],
      "metadata": {
        "colab": {
          "base_uri": "https://localhost:8080/"
        },
        "id": "D4JWJcF0uExh",
        "outputId": "cdab16a6-79c8-4184-f857-450350af58ef"
      },
      "execution_count": 41,
      "outputs": [
        {
          "output_type": "stream",
          "name": "stderr",
          "text": [
            "/usr/local/lib/python3.7/dist-packages/keras/engine/functional.py:1410: CustomMaskWarning: Custom mask layers require a config and must override get_config. When loading, the custom mask layer must be passed to the custom_objects argument.\n",
            "  layer_config = serialize_layer_fn(layer)\n"
          ]
        }
      ]
    }
  ]
}