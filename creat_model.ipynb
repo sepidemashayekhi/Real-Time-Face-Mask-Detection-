{
  "nbformat": 4,
  "nbformat_minor": 0,
  "metadata": {
    "colab": {
      "name": "Untitled36.ipynb",
      "provenance": []
    },
    "kernelspec": {
      "name": "python3",
      "display_name": "Python 3"
    },
    "language_info": {
      "name": "python"
    }
  },
  "cells": [
    {
      "cell_type": "code",
      "execution_count": 103,
      "metadata": {
        "id": "uhjRZFN07GqX"
      },
      "outputs": [],
      "source": [
        "from keras import layers\n",
        "from keras.preprocessing.image import ImageDataGenerator\n",
        "from keras.applications import mobilenet_v2\n",
        "from keras.layers import Input\n",
        "from keras.models import Model\n",
        "from sklearn.metrics import classification_report\n",
        "import matplotlib.pyplot as plt\n",
        "import numpy as np\n",
        "import os\n",
        "from sklearn.model_selection import train_test_split"
      ]
    },
    {
      "cell_type": "code",
      "source": [
        "base_dir='/content/sample_data/data'"
      ],
      "metadata": {
        "id": "FwtLToTW7hjZ"
      },
      "execution_count": 11,
      "outputs": []
    },
    {
      "cell_type": "markdown",
      "source": [
        "# load data "
      ],
      "metadata": {
        "id": "60obpF-oCMRa"
      }
    },
    {
      "cell_type": "code",
      "source": [
        "datagen=ImageDataGenerator(rescale=1./255,rotation_range=20,\n",
        "\tzoom_range=0.15,\n",
        "\twidth_shift_range=0.2,\n",
        "\theight_shift_range=0.2,\n",
        "\tshear_range=0.15,\n",
        "\thorizontal_flip=True,\n",
        "\tfill_mode=\"nearest\")\n",
        "imageGeneratir=datagen.flow_from_directory(base_dir,target_size=(224,224),\n",
        "                                           batch_size=32,class_mode='binary')"
      ],
      "metadata": {
        "colab": {
          "base_uri": "https://localhost:8080/"
        },
        "id": "Yh47EhnjCPRx",
        "outputId": "f973b7d2-29ae-44d5-ccce-cff4315aff91"
      },
      "execution_count": 73,
      "outputs": [
        {
          "output_type": "stream",
          "name": "stdout",
          "text": [
            "Found 3226 images belonging to 3 classes.\n"
          ]
        }
      ]
    },
    {
      "cell_type": "code",
      "source": [
        "baseModel = mobilenet_v2.MobileNetV2(weights=\"imagenet\", include_top=False,input_shape=(224,224,3))"
      ],
      "metadata": {
        "id": "KbMEHfA6Fm4a"
      },
      "execution_count": 91,
      "outputs": []
    },
    {
      "cell_type": "code",
      "source": [
        " batch_size=32\n",
        " def extract_feature(directory,sample_count):\n",
        "  feature=np.zeros(shape=(sample_count,7,7,1280))\n",
        "  labels=np.zeros(shape=(sample_count))\n",
        "  imageGenerator=datagen.flow_from_directory(directory,\n",
        "                                             batch_size=batch_size,target_size=(224,224),class_mode='binary')\n",
        "  i=0\n",
        "  for image , label in imageGenerator:\n",
        "\n",
        "    if image.shape[0]<batch_size:\n",
        "      continue\n",
        "    F=baseModel.predict(image)\n",
        "\n",
        "    feature[i*batch_size:(i+1)*batch_size]=F\n",
        "    labels[i*batch_size:(i+1)*batch_size]=label\n",
        "    i+=1\n",
        "    if i*batch_size>sample_count:\n",
        "      break\n",
        "    return feature, labels"
      ],
      "metadata": {
        "id": "XVEa2O95S91p"
      },
      "execution_count": 94,
      "outputs": []
    },
    {
      "cell_type": "code",
      "source": [
        "features,labels=extract_feature(base_dir,3226)\n"
      ],
      "metadata": {
        "colab": {
          "base_uri": "https://localhost:8080/"
        },
        "id": "5zZKpd9EGJgl",
        "outputId": "565dbaf8-1cf4-4ab9-9dec-660c961c83b0"
      },
      "execution_count": 98,
      "outputs": [
        {
          "output_type": "stream",
          "name": "stdout",
          "text": [
            "Found 3226 images belonging to 3 classes.\n"
          ]
        }
      ]
    },
    {
      "cell_type": "code",
      "source": [
        "dim=features.shape[1]*features.shape[2]*features.shape[3]\n",
        "features=np.reshape(features,newshape=(3226,dim))"
      ],
      "metadata": {
        "id": "FGUauNJqVMQj"
      },
      "execution_count": 101,
      "outputs": []
    },
    {
      "cell_type": "code",
      "source": [
        "train_feature,test_feature,train_label,test_label=train_test_split(features,labels,test_size=0.25,random_state=0)"
      ],
      "metadata": {
        "id": "Dul1Pzc7V8wM"
      },
      "execution_count": 106,
      "outputs": []
    },
    {
      "cell_type": "markdown",
      "source": [
        "# creat model"
      ],
      "metadata": {
        "id": "tgbhz-oNWDP3"
      }
    },
    {
      "cell_type": "code",
      "source": [
        "from keras.optimizers import adam_v2\n",
        "Adam=adam_v2.Adam(lr=1e-4, decay=1e-4 /20)"
      ],
      "metadata": {
        "colab": {
          "base_uri": "https://localhost:8080/"
        },
        "id": "k-C1FBgLWBUX",
        "outputId": "38b5ef3b-7486-4523-92f9-765b241bfd6e"
      },
      "execution_count": 102,
      "outputs": [
        {
          "output_type": "stream",
          "name": "stderr",
          "text": [
            "/usr/local/lib/python3.7/dist-packages/keras/optimizer_v2/adam.py:105: UserWarning: The `lr` argument is deprecated, use `learning_rate` instead.\n",
            "  super(Adam, self).__init__(name, **kwargs)\n"
          ]
        }
      ]
    },
    {
      "cell_type": "code",
      "source": [
        "input=Input(shape=(62720))\n",
        "# headModel = layers.AveragePooling2D(pool_size=(7, 7))(input)\n",
        "# headModel = layers.Flatten(name=\"flatten\")(headModel)\n",
        "headModel = layers.Dense(128, activation=\"relu\")(input)\n",
        "headModel = layers.Dropout(0.25)(headModel)\n",
        "headModel=layers.Dense(64,activation='relu')(headModel)\n",
        "headModel=layers.Dropout(0.25)(headModel)\n",
        "headModel=layers.Dense(32,activation='relu')(headModel)\n",
        "headModel = layers.Dense(1, activation=\"sigmoid\")(headModel)\n",
        "model = Model(input,headModel)\n",
        "\n",
        "model.compile(loss=\"binary_crossentropy\",optimizer=Adam,metrics=['acc'])"
      ],
      "metadata": {
        "id": "9TLsrJj9GzjC"
      },
      "execution_count": 110,
      "outputs": []
    },
    {
      "cell_type": "markdown",
      "source": [
        "# Fit model "
      ],
      "metadata": {
        "id": "WuDEY_PwNWU5"
      }
    },
    {
      "cell_type": "code",
      "source": [
        "history=model.fit(train_feature,train_label,batch_size=32,epochs=20,validation_split=0.2)"
      ],
      "metadata": {
        "colab": {
          "base_uri": "https://localhost:8080/"
        },
        "id": "RVqrd-gNX4H1",
        "outputId": "fcd3d679-5a30-4ffc-f100-74e37f23c7a2"
      },
      "execution_count": 112,
      "outputs": [
        {
          "output_type": "stream",
          "name": "stdout",
          "text": [
            "Epoch 1/20\n",
            "61/61 [==============================] - 3s 49ms/step - loss: -1.7937 - acc: 0.9953 - val_loss: -3.9241 - val_acc: 0.9917\n",
            "Epoch 2/20\n",
            "61/61 [==============================] - 3s 49ms/step - loss: -2.7564 - acc: 0.9953 - val_loss: -5.5792 - val_acc: 0.9917\n",
            "Epoch 3/20\n",
            "61/61 [==============================] - 3s 49ms/step - loss: -3.5143 - acc: 0.9953 - val_loss: -7.4521 - val_acc: 0.9917\n",
            "Epoch 4/20\n",
            "61/61 [==============================] - 3s 49ms/step - loss: -5.1691 - acc: 0.9953 - val_loss: -9.4719 - val_acc: 0.9917\n",
            "Epoch 5/20\n",
            "61/61 [==============================] - 3s 49ms/step - loss: -6.4761 - acc: 0.9953 - val_loss: -12.7566 - val_acc: 0.9917\n",
            "Epoch 6/20\n",
            "61/61 [==============================] - 3s 48ms/step - loss: -8.7628 - acc: 0.9953 - val_loss: -16.6084 - val_acc: 0.9917\n",
            "Epoch 7/20\n",
            "61/61 [==============================] - 3s 49ms/step - loss: -12.3651 - acc: 0.9953 - val_loss: -22.4553 - val_acc: 0.9917\n",
            "Epoch 8/20\n",
            "61/61 [==============================] - 3s 49ms/step - loss: -16.1183 - acc: 0.9953 - val_loss: -28.9021 - val_acc: 0.9917\n",
            "Epoch 9/20\n",
            "61/61 [==============================] - 3s 50ms/step - loss: -18.2747 - acc: 0.9953 - val_loss: -36.1037 - val_acc: 0.9917\n",
            "Epoch 10/20\n",
            "61/61 [==============================] - 3s 49ms/step - loss: -25.7782 - acc: 0.9953 - val_loss: -45.6626 - val_acc: 0.9917\n",
            "Epoch 11/20\n",
            "61/61 [==============================] - 3s 49ms/step - loss: -31.2428 - acc: 0.9953 - val_loss: -57.4722 - val_acc: 0.9917\n",
            "Epoch 12/20\n",
            "61/61 [==============================] - 3s 49ms/step - loss: -38.1433 - acc: 0.9953 - val_loss: -71.2810 - val_acc: 0.9917\n",
            "Epoch 13/20\n",
            "61/61 [==============================] - 3s 50ms/step - loss: -44.4989 - acc: 0.9953 - val_loss: -85.1540 - val_acc: 0.9917\n",
            "Epoch 14/20\n",
            "61/61 [==============================] - 3s 49ms/step - loss: -58.8515 - acc: 0.9953 - val_loss: -105.3545 - val_acc: 0.9917\n",
            "Epoch 15/20\n",
            "61/61 [==============================] - 3s 49ms/step - loss: -64.7774 - acc: 0.9953 - val_loss: -124.2453 - val_acc: 0.9917\n",
            "Epoch 16/20\n",
            "61/61 [==============================] - 3s 49ms/step - loss: -83.4752 - acc: 0.9953 - val_loss: -148.9211 - val_acc: 0.9917\n",
            "Epoch 17/20\n",
            "61/61 [==============================] - 3s 49ms/step - loss: -99.6050 - acc: 0.9953 - val_loss: -176.2722 - val_acc: 0.9917\n",
            "Epoch 18/20\n",
            "61/61 [==============================] - 3s 49ms/step - loss: -109.1705 - acc: 0.9953 - val_loss: -209.4050 - val_acc: 0.9917\n",
            "Epoch 19/20\n",
            "61/61 [==============================] - 3s 49ms/step - loss: -129.7606 - acc: 0.9953 - val_loss: -245.2870 - val_acc: 0.9917\n",
            "Epoch 20/20\n",
            "61/61 [==============================] - 3s 49ms/step - loss: -140.1585 - acc: 0.9953 - val_loss: -283.8257 - val_acc: 0.9917\n"
          ]
        }
      ]
    },
    {
      "cell_type": "code",
      "source": [
        "predIdxs = model.predict(test_feature, batch_size=32)\n",
        "\n",
        "# for each image in the testing set we need to find the index of the\n",
        "# label with corresponding largest predicted probability\n",
        "predIdxs = np.argmax(predIdxs, axis=1)\n",
        "\n",
        "# show a nicely formatted classification report\n",
        "print(classification_report(test_label, predIdxs))"
      ],
      "metadata": {
        "colab": {
          "base_uri": "https://localhost:8080/"
        },
        "id": "_K7WCfoRYn1o",
        "outputId": "01aee9f8-d1be-4e81-877a-24622b010d67"
      },
      "execution_count": 116,
      "outputs": [
        {
          "output_type": "stream",
          "name": "stdout",
          "text": [
            "              precision    recall  f1-score   support\n",
            "\n",
            "         0.0       0.99      1.00      0.99       796\n",
            "         1.0       0.00      0.00      0.00         9\n",
            "         2.0       0.00      0.00      0.00         2\n",
            "\n",
            "    accuracy                           0.99       807\n",
            "   macro avg       0.33      0.33      0.33       807\n",
            "weighted avg       0.97      0.99      0.98       807\n",
            "\n"
          ]
        },
        {
          "output_type": "stream",
          "name": "stderr",
          "text": [
            "/usr/local/lib/python3.7/dist-packages/sklearn/metrics/_classification.py:1318: UndefinedMetricWarning: Precision and F-score are ill-defined and being set to 0.0 in labels with no predicted samples. Use `zero_division` parameter to control this behavior.\n",
            "  _warn_prf(average, modifier, msg_start, len(result))\n",
            "/usr/local/lib/python3.7/dist-packages/sklearn/metrics/_classification.py:1318: UndefinedMetricWarning: Precision and F-score are ill-defined and being set to 0.0 in labels with no predicted samples. Use `zero_division` parameter to control this behavior.\n",
            "  _warn_prf(average, modifier, msg_start, len(result))\n",
            "/usr/local/lib/python3.7/dist-packages/sklearn/metrics/_classification.py:1318: UndefinedMetricWarning: Precision and F-score are ill-defined and being set to 0.0 in labels with no predicted samples. Use `zero_division` parameter to control this behavior.\n",
            "  _warn_prf(average, modifier, msg_start, len(result))\n"
          ]
        }
      ]
    },
    {
      "cell_type": "code",
      "source": [
        "model.save('/content/sample_data/my_model_2.h5')"
      ],
      "metadata": {
        "id": "Ps4YTENKZKvM"
      },
      "execution_count": 117,
      "outputs": []
    }
  ]
}